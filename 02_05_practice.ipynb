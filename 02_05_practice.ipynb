{
 "cells": [
  {
   "cell_type": "code",
   "execution_count": 1,
   "id": "d1b20809",
   "metadata": {},
   "outputs": [
    {
     "name": "stdout",
     "output_type": "stream",
     "text": [
      "John 20\n",
      "Paul 21\n",
      "George 22\n",
      "Ringo 23\n",
      "John\n",
      "Paul\n",
      "George\n",
      "Ringo\n",
      "John 20\n",
      "Paul 21\n",
      "George 22\n",
      "Ringo 23\n",
      "Ringo\n",
      "George\n",
      "Paul\n",
      "John\n",
      "0\n",
      "1\n",
      "2\n",
      "3\n",
      "4\n"
     ]
    }
   ],
   "source": [
    "NAMES = [\"John\", \"Paul\", \"George\", \"Ringo\"]\n",
    "AGES = [20, 21, 22, 23]\n",
    "\n",
    "i = 0\n",
    "while i < len(NAMES):\n",
    "    print(NAMES[i], AGES[i])\n",
    "    i += 1\n",
    "\n",
    "for name in NAMES:\n",
    "    print(name)\n",
    "\n",
    "for name, age in zip(NAMES, AGES):\n",
    "    print(f\"{name} {age}\")\n",
    "\n",
    "for name in reversed(NAMES):\n",
    "    print(name)\n",
    "\n",
    "for i in range(5):\n",
    "    print(i)\n"
   ]
  },
  {
   "cell_type": "code",
   "execution_count": 2,
   "id": "c458941b",
   "metadata": {},
   "outputs": [
    {
     "name": "stdout",
     "output_type": "stream",
     "text": [
      "0John\n",
      "1Paul\n",
      "2George\n",
      "3Ringo\n"
     ]
    }
   ],
   "source": [
    "# enumerate\n",
    "for i, name in enumerate(NAMES):\n",
    "    print(f\"{i}{name}\")"
   ]
  },
  {
   "cell_type": "code",
   "execution_count": null,
   "id": "59c4409b",
   "metadata": {},
   "outputs": [],
   "source": []
  }
 ],
 "metadata": {
  "kernelspec": {
   "display_name": "Python 3 (ipykernel)",
   "language": "python",
   "name": "python3"
  },
  "language_info": {
   "codemirror_mode": {
    "name": "ipython",
    "version": 3
   },
   "file_extension": ".py",
   "mimetype": "text/x-python",
   "name": "python",
   "nbconvert_exporter": "python",
   "pygments_lexer": "ipython3",
   "version": "3.9.5"
  }
 },
 "nbformat": 4,
 "nbformat_minor": 5
}
