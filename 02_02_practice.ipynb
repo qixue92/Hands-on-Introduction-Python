{
 "cells": [
  {
   "cell_type": "code",
   "execution_count": 1,
   "id": "63fd7459",
   "metadata": {},
   "outputs": [
    {
     "name": "stdout",
     "output_type": "stream",
     "text": [
      "HelloJohn Hello John\n"
     ]
    }
   ],
   "source": [
    "greet = \"Hello, World\"\n",
    "\n",
    "extended_grt = \"Hello, World,\" + \"this is a long string\"\n",
    "\n",
    "name = \"John\"\n",
    "\n",
    "interuption = f\"Hello{name}\"\n",
    "\n",
    "greet_format = \"Hello {}\"\n",
    "\n",
    "formatted = greet_format.format(name)\n",
    "\n",
    "print(interuption, formatted)"
   ]
  },
  {
   "cell_type": "code",
   "execution_count": 2,
   "id": "9fe7891d",
   "metadata": {},
   "outputs": [
    {
     "ename": "SyntaxError",
     "evalue": "invalid syntax (4153369090.py, line 1)",
     "output_type": "error",
     "traceback": [
      "\u001b[0;36m  Cell \u001b[0;32mIn[2], line 1\u001b[0;36m\u001b[0m\n\u001b[0;31m    $cd 02_02_begin/\u001b[0m\n\u001b[0m    ^\u001b[0m\n\u001b[0;31mSyntaxError\u001b[0m\u001b[0;31m:\u001b[0m invalid syntax\n"
     ]
    }
   ],
   "source": [
    "$cd 02_02_begin/"
   ]
  },
  {
   "cell_type": "code",
   "execution_count": 3,
   "id": "4d0dd69d",
   "metadata": {},
   "outputs": [
    {
     "ename": "SyntaxError",
     "evalue": "invalid syntax (4153369090.py, line 1)",
     "output_type": "error",
     "traceback": [
      "\u001b[0;36m  Cell \u001b[0;32mIn[3], line 1\u001b[0;36m\u001b[0m\n\u001b[0;31m    $cd 02_02_begin/\u001b[0m\n\u001b[0m    ^\u001b[0m\n\u001b[0;31mSyntaxError\u001b[0m\u001b[0;31m:\u001b[0m invalid syntax\n"
     ]
    }
   ],
   "source": [
    "$cd 02_02_begin/"
   ]
  },
  {
   "cell_type": "code",
   "execution_count": null,
   "id": "be55dc57",
   "metadata": {},
   "outputs": [],
   "source": []
  }
 ],
 "metadata": {
  "kernelspec": {
   "display_name": "Python 3 (ipykernel)",
   "language": "python",
   "name": "python3"
  },
  "language_info": {
   "codemirror_mode": {
    "name": "ipython",
    "version": 3
   },
   "file_extension": ".py",
   "mimetype": "text/x-python",
   "name": "python",
   "nbconvert_exporter": "python",
   "pygments_lexer": "ipython3",
   "version": "3.9.5"
  }
 },
 "nbformat": 4,
 "nbformat_minor": 5
}
