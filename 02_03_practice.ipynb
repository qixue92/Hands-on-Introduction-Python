{
 "cells": [
  {
   "cell_type": "code",
   "execution_count": 2,
   "id": "2fa097b6",
   "metadata": {},
   "outputs": [
    {
     "name": "stdout",
     "output_type": "stream",
     "text": [
      "86\n",
      "20\n",
      "23\n",
      "['John', 'Paul']\n",
      "['George', 'Ringo']\n",
      "['Ringo', 'George', 'Paul', 'John']\n"
     ]
    }
   ],
   "source": [
    "NAMES = [\"John\", \"Paul\", \"George\", \"Ringo\"]\n",
    "AGES = [20, 21, 22, 23]\n",
    "\n",
    "JOHN = NAMES[0]\n",
    "PAUL = NAMES[1]\n",
    "\n",
    "JOHN_PAUL = NAMES[:2]\n",
    "GEORGE_RINGO = NAMES[2:]\n",
    "REVERSE = NAMES[::-1]\n",
    "EVERY_OTHER = NAMES[::2]\n",
    "\n",
    "print(sum(AGES))\n",
    "print(min(AGES))\n",
    "print(max(AGES))\n",
    "\n",
    "print(JOHN_PAUL)\n",
    "print(GEORGE_RINGO)\n",
    "print(REVERSE)"
   ]
  },
  {
   "cell_type": "code",
   "execution_count": null,
   "id": "097b21d0",
   "metadata": {},
   "outputs": [],
   "source": []
  }
 ],
 "metadata": {
  "kernelspec": {
   "display_name": "Python 3 (ipykernel)",
   "language": "python",
   "name": "python3"
  },
  "language_info": {
   "codemirror_mode": {
    "name": "ipython",
    "version": 3
   },
   "file_extension": ".py",
   "mimetype": "text/x-python",
   "name": "python",
   "nbconvert_exporter": "python",
   "pygments_lexer": "ipython3",
   "version": "3.9.5"
  }
 },
 "nbformat": 4,
 "nbformat_minor": 5
}
